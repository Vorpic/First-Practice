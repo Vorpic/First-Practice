{
    "metadata": {
        "kernelspec": {
            "name": "python3",
            "display_name": "Python 3 (ipykernel)",
            "language": "python"
        }
    },
    "nbformat": 4,
    "nbformat_minor": 2,
    "cells": [
        {
            "attachments": {},
            "cell_type": "markdown",
            "metadata": {},
            "source": [
                "To run the code in individual sections, hover the mouse on the left side of the code space and click the *play/run* button.\n",
                "You can also use keys *\"Shift + Return\"*"
            ]
        },
        {
            "cell_type": "code",
            "execution_count": 15,
            "metadata": {},
            "outputs": [
                {
                    "name": "stdout",
                    "output_type": "stream",
                    "text": "Hello World\n"
                }
            ],
            "source": [
                "print(\"Hello World\")"
            ]
        },
        {
            "attachments": {},
            "cell_type": "markdown",
            "metadata": {},
            "source": [
                "# **Variables**"
            ]
        },
        {
            "cell_type": "code",
            "execution_count": 16,
            "metadata": {},
            "outputs": [
                {
                    "name": "stdout",
                    "output_type": "stream",
                    "text": "20\n"
                }
            ],
            "source": [
                "age = 20\n",
                "print(20)"
            ]
        },
        {
            "attachments": {},
            "cell_type": "markdown",
            "metadata": {},
            "source": [
                "*Practice*: Change the value of age and print it out in the following space."
            ]
        },
        {
            "cell_type": "code",
            "execution_count": 17,
            "metadata": {},
            "outputs": [
                {
                    "name": "stdout",
                    "output_type": "stream",
                    "text": "20\n"
                }
            ],
            "source": [
                "age = 20\n",
                "print(age)"
            ]
        },
        {
            "attachments": {},
            "cell_type": "markdown",
            "metadata": {},
            "source": [
                "Deep Dive: different **types** of variables."
            ]
        },
        {
            "cell_type": "code",
            "execution_count": 18,
            "metadata": {},
            "outputs": [
                {
                    "name": "stdout",
                    "output_type": "stream",
                    "text": "Mr. Doe is 20 years old\n"
                }
            ],
            "source": [
                "age = 20\n",
                "price = 19.99 \n",
                "first_name = \"Mr. Doe\"\n",
                "is_online = True\n",
                "print(first_name + \" is \" + str(age) + \" years old\")"
            ]
        },
        {
            "attachments": {},
            "cell_type": "markdown",
            "metadata": {},
            "source": [
                "*Exercise*: Check in a new patient named James Smith, who is 20 years old."
            ]
        },
        {
            "cell_type": "code",
            "execution_count": 19,
            "metadata": {},
            "outputs": [
                {
                    "name": "stdout",
                    "output_type": "stream",
                    "text": "James Smith is 20 years old\n"
                }
            ],
            "source": [
                "age = 20\n",
                "price = 19.99\n",
                "first_name = \"James Smith\"\n",
                "print(first_name + \" is \" + str(age) + \" years old\")"
            ]
        },
        {
            "attachments": {},
            "cell_type": "markdown",
            "metadata": {},
            "source": [
                "**Input**"
            ]
        },
        {
            "cell_type": "code",
            "execution_count": 25,
            "metadata": {},
            "outputs": [],
            "source": [
                "name = input(\"what is your name\")\n",
                "print(\"Hello \" + name)"
            ]
        },
        {
            "attachments": {},
            "cell_type": "markdown",
            "metadata": {},
            "source": [
                "**Type conversion**"
            ]
        },
        {
            "attachments": {},
            "cell_type": "markdown",
            "metadata": {},
            "source": [
                "1. Error: the input is read in as a string, which cannot be operated on with a number."
            ]
        },
        {
            "cell_type": "code",
            "execution_count": 14,
            "metadata": {},
            "outputs": [
                {
                    "ename": "TypeError",
                    "evalue": "unsupported operand type(s) for -: 'int' and 'str'",
                    "output_type": "error",
                    "traceback": [
                        "\u001b[0;31m---------------------------------------------------------------------------\u001b[0m",
                        "\u001b[0;31mTypeError\u001b[0m                                 Traceback (most recent call last)",
                        "Input \u001b[0;32mIn [1]\u001b[0m, in \u001b[0;36m\u003cmodule\u003e\u001b[0;34m\u001b[0m\n\u001b[1;32m      1\u001b[0m birth_year \u001b[38;5;241m=\u001b[39m \u001b[38;5;28minput\u001b[39m(\u001b[38;5;124m\"\u001b[39m\u001b[38;5;124mEnter your birth year\u001b[39m\u001b[38;5;124m\"\u001b[39m)\n\u001b[0;32m----\u003e 2\u001b[0m age \u001b[38;5;241m=\u001b[39m \u001b[38;5;241;43m2021\u001b[39;49m\u001b[43m \u001b[49m\u001b[38;5;241;43m-\u001b[39;49m\u001b[43m \u001b[49m\u001b[43mbirth_year\u001b[49m\n\u001b[1;32m      3\u001b[0m \u001b[38;5;28mprint\u001b[39m (age)\n",
                        "\u001b[0;31mTypeError\u001b[0m: unsupported operand type(s) for -: 'int' and 'str'"
                    ]
                }
            ],
            "source": [
                "birth_year = input(\"Enter your birth year\")\n",
                "age = 2021 - birth_year\n",
                "print (age)"
            ]
        },
        {
            "attachments": {},
            "cell_type": "markdown",
            "metadata": {},
            "source": [
                "Fixing the code: convert string input to integer"
            ]
        },
        {
            "cell_type": "code",
            "execution_count": 26,
            "metadata": {},
            "outputs": [
                {
                    "name": "stdout",
                    "output_type": "stream",
                    "text": "20\n"
                }
            ],
            "source": [
                "birth_year = input(\"Enter your birth year\")\n",
                "age = 2021 - int(birth_year)\n",
                "print (age)"
            ]
        },
        {
            "attachments": {},
            "cell_type": "markdown",
            "metadata": {},
            "source": [
                "Exercise: Basic calculator. Adding two numbers"
            ]
        },
        {
            "cell_type": "code",
            "execution_count": 24,
            "metadata": {},
            "outputs": [
                {
                    "name": "stdout",
                    "output_type": "stream",
                    "text": "13\n"
                }
            ],
            "source": [
                "x = 10\n",
                "x += 3\n",
                "print(x)"
            ]
        },
        {
            "attachments": {},
            "cell_type": "markdown",
            "metadata": {},
            "source": [
                "**Strings**"
            ]
        },
        {
            "cell_type": "code",
            "execution_count": 0,
            "metadata": {},
            "outputs": [],
            "source": [
                "# The string class contains a lot of built-in methods\n",
                "course = 'Discover AI'\n",
                "print(course.find('i'))"
            ]
        },
        {
            "attachments": {},
            "cell_type": "markdown",
            "metadata": {},
            "source": [
                "# **Operators**"
            ]
        },
        {
            "attachments": {},
            "cell_type": "markdown",
            "metadata": {},
            "source": [
                "1. Arthmetic Operators"
            ]
        },
        {
            "cell_type": "code",
            "execution_count": 5,
            "metadata": {},
            "outputs": [],
            "source": [
                "# Addition\n",
                "print(\"10 + 3 = \" + str(10 + 3))\n",
                "\n",
                "# Subtraction\n",
                "print(\"10 - 3 = \" + str(10 - 3))\n",
                "\n",
                "# Multiplication\n",
                "print(\"10 * 3 = \" + str(10 * 3))\n",
                "\n",
                "# Division\n",
                "print(\"10 / 3 = \" + str(10 / 3))\n",
                "\n",
                "# Division with integer\n",
                "print(\"10 //3 = \" + str(10 // 3))\n",
                "\n",
                "# Modulus \n",
                "print(\"10 % 3 = \" + str(10 % 3))\n",
                "\n",
                "# Exponent\n",
                "print(\"10 ** 3 = \" + str(10 ** 3))"
            ]
        },
        {
            "cell_type": "code",
            "execution_count": 3,
            "metadata": {},
            "outputs": [],
            "source": [
                "# Augmented operators\n",
                "x = 10\n",
                "x += 3\n",
                "print(x)"
            ]
        },
        {
            "attachments": {},
            "cell_type": "markdown",
            "metadata": {},
            "source": [
                "Operator Precedence"
            ]
        },
        {
            "cell_type": "code",
            "execution_count": 27,
            "metadata": {},
            "outputs": [
                {
                    "name": "stdout",
                    "output_type": "stream",
                    "text": "16\n"
                }
            ],
            "source": [
                "x = 10 + 3 * 2\n",
                "print (x)"
            ]
        },
        {
            "attachments": {},
            "cell_type": "markdown",
            "metadata": {},
            "source": [
                "2. Comparison Operators"
            ]
        },
        {
            "cell_type": "code",
            "execution_count": 7,
            "metadata": {},
            "outputs": [],
            "source": [
                "# They return boolean (True/False) solutions\n",
                "\n",
                "# Greater than\n",
                "print(\"10 \u003e 3: \" + str(10 \u003e 3))\n",
                "# Greater than or equal to\n",
                "print(\"3 \u003e= 3: \" + str(10 \u003e= 3))\n",
                "# Less than\n",
                "print(\"10 \u003c 3: \" + str(10 \u003c 3))\n",
                "# Less than or equal to\n",
                "print(\"10 \u003c= 3: \" + str(10 \u003c= 3))\n",
                "# Equal\n",
                "print(\"10 == 3: \" + str(10 == 3))\n",
                "# Not equal\n",
                "print(\"10 != 3: \" + str(10 != 3))\n",
                ""
            ]
        },
        {
            "attachments": {},
            "cell_type": "markdown",
            "metadata": {},
            "source": [
                "4. Logical Operators"
            ]
        },
        {
            "cell_type": "code",
            "execution_count": 2,
            "metadata": {},
            "outputs": [],
            "source": [
                "# Used for building complex rules and conditions\n",
                "\n",
                "# Using \"and\" check that a price is between two values\n",
                "price = 25\n",
                "print(\"Price between 10 and 30: \" + str(price \u003e 10 and price \u003c 30))\n",
                "\n",
                "# Using \"or\" check that a price is either of two values\n",
                "price = 25\n",
                "print(\"Price is either 10 or 30: \" + str(price == 10 or price == 30))\n",
                "\n",
                "# Using \"not\" check that a price is less than a value\n",
                "price = 25\n",
                "print(\"Price is less than 30: \" + str(not price \u003c 30))"
            ]
        },
        {
            "attachments": {},
            "cell_type": "markdown",
            "metadata": {},
            "source": [
                "# **If Statements**"
            ]
        },
        {
            "cell_type": "code",
            "execution_count": 3,
            "metadata": {},
            "outputs": [],
            "source": [
                "# Used to make decisions\n",
                "\n",
                "# Print a message if the temperature is \u003e 30\n",
                "temperature = 35\n",
                "if(temperature \u003e 30):\n",
                "    print(\"It's a hot day\")\n",
                "    print(\"Drink plenty of water\")\n",
                "# Everything below will be outside of the conditional statement\n",
                "print (\"Done\")"
            ]
        },
        {
            "attachments": {},
            "cell_type": "markdown",
            "metadata": {},
            "source": [
                "*Practice* Add a condition for printing \"It's a nice day\" if the temperature is between 20 and 30"
            ]
        },
        {
            "cell_type": "code",
            "execution_count": 31,
            "metadata": {},
            "outputs": [
                {
                    "name": "stdout",
                    "output_type": "stream",
                    "text": "It's a nice day\n"
                }
            ],
            "source": [
                "temperature = 25\n",
                "if temperature \u003e 30:\n",
                "    print(\"It's a hot day\")\n",
                "    print(\"Drink plenty of water\")\n",
                "elif temperature \u003e 20:\n",
                "    print(\"It's a nice day\")"
            ]
        },
        {
            "attachments": {},
            "cell_type": "markdown",
            "metadata": {},
            "source": [
                "**Exercise**\n",
                "\n",
                "* Get weight as input\n",
                "* Get unit as input (Kgs or Lbs)\n",
                "* Display weight converted to the opposite unit\n",
                "\n",
                ""
            ]
        },
        {
            "cell_type": "code",
            "execution_count": 37,
            "metadata": {},
            "outputs": [],
            "source": [
                "weight = int(input(\"Weight: \"))\n",
                "unit = input(\"(K)g or (L)bs: \")\n",
                "if unit.upper() == \"K\":\n",
                "    coverted = weight / 0.45\n",
                "    print(\"Weight in LBS: \" + str(coverted))\n",
                "else:\n",
                "    converted = weight * 0.45\n",
                "    print(\"Weight in Kgs: \" + str(converted))"
            ]
        },
        {
            "attachments": {},
            "cell_type": "markdown",
            "metadata": {},
            "source": [
                "# **Loops**"
            ]
        },
        {
            "cell_type": "code",
            "execution_count": 10,
            "metadata": {},
            "outputs": [],
            "source": [
                "i = 1\n",
                "while i \u003c= 1000:\n",
                "    print(i)\n",
                "    i = i + 1\n",
                ""
            ]
        },
        {
            "attachments": {},
            "cell_type": "markdown",
            "metadata": {},
            "source": [
                "# **Lists**"
            ]
        },
        {
            "cell_type": "code",
            "execution_count": 40,
            "metadata": {},
            "outputs": [
                {
                    "name": "stdout",
                    "output_type": "stream",
                    "text": "['Ari', 'Jane', 'John']\n"
                }
            ],
            "source": [
                "# list of names\n",
                "names = [\"Ari\", \"Jane\", \"John\", \"Mary\", \"Sam\", \"Safi\"]\n",
                "print(names[0:3])\n",
                "\n",
                "# print the first three names\n",
                "\n",
                "# Add a name at the head of the list"
            ]
        },
        {
            "attachments": {},
            "cell_type": "markdown",
            "metadata": {},
            "source": [
                "List methods"
            ]
        },
        {
            "cell_type": "code",
            "execution_count": 0,
            "metadata": {},
            "outputs": [],
            "source": [
                "numbers = [1, 2, 3, 4, 5, 6]\n",
                "# Append\n",
                "\n",
                "# Insert\n",
                "\n",
                "# Remove\n",
                "\n",
                "# Clear\n",
                "\n",
                "# In \n",
                "print(10 in numbers)\n",
                "# Len\n",
                "print (len(numbers))"
            ]
        },
        {
            "attachments": {},
            "cell_type": "markdown",
            "metadata": {},
            "source": [
                "## **For Loops**"
            ]
        },
        {
            "cell_type": "code",
            "execution_count": 0,
            "metadata": {},
            "outputs": [],
            "source": [
                "numbers = [1, 2, 3, 4, 5,]\n",
                "for item in numbers:\n",
                "    print (item)"
            ]
        },
        {
            "attachments": {},
            "cell_type": "markdown",
            "metadata": {},
            "source": [
                "**Range function**"
            ]
        },
        {
            "cell_type": "code",
            "execution_count": 42,
            "metadata": {},
            "outputs": [],
            "source": [
                "# The function can have 1 to 3 arguments.\n",
                "\n",
                "# 1. generate numbers up to a value\n",
                "numbers = range(5, 10, 2)\n",
                "for number in numbers:\n",
                "    print(number)"
            ]
        },
        {
            "attachments": {},
            "cell_type": "markdown",
            "metadata": {},
            "source": [
                "**Tuples**"
            ]
        },
        {
            "cell_type": "code",
            "execution_count": 13,
            "metadata": {},
            "outputs": [],
            "source": [
                "# Immutable (unchangeable) elements\n",
                "numbers = (1, 2, 3)"
            ]
        }
    ]
}
